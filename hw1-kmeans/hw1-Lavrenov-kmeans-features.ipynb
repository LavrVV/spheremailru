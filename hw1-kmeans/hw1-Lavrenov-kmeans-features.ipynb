{
 "cells": [
  {
   "cell_type": "markdown",
   "metadata": {},
   "source": [
    "# Алгоритмы интеллектуальной обработки больших объемов данных\n",
    "## Домашнее задание №1 - Метод k-средних, предобработка признаков\n"
   ]
  },
  {
   "cell_type": "markdown",
   "metadata": {},
   "source": [
    "# <hr\\>\n",
    "**Общая информация**\n",
    "\n",
    "**Срок сдачи:** до 7 октября 2017, 06:00   \n",
    "**Штраф за опоздание:** -2 балла после 06:00 7 октября, -4 балла после 06:00 14 октября, -6 баллов после 06:00 21 октября\n",
    "\n",
    "При отправлении ДЗ указывайте фамилию в названии файла   \n",
    "\n",
    "\n",
    "Присылать ДЗ необходимо в виде ссылки на свой github репозиторий в slack @alkhamush\n",
    "Необходимо в slack создать таск в приватный чат:   \n",
    "/todo Фамилия Имя *ссылка на гитхаб* @alkhamush   \n",
    "Пример:   \n",
    "/todo Ксения Стройкова https://github.com/stroykova/spheremailru/stroykova_hw1.ipynb @alkhamush   \n",
    "\n",
    "Используйте данный Ipython Notebook при оформлении домашнего задания.\n",
    "<hr\\>"
   ]
  },
  {
   "cell_type": "markdown",
   "metadata": {},
   "source": [
    "# Первое задание - указать фамилию в имени файла"
   ]
  },
  {
   "cell_type": "code",
   "execution_count": 1,
   "metadata": {
    "collapsed": true
   },
   "outputs": [],
   "source": [
    "import pandas as pd\n",
    "import numpy as np\n",
    "import matplotlib.pyplot as plt\n",
    "\n",
    "%matplotlib inline\n",
    "\n",
    "plt.style.use('ggplot')\n",
    "plt.rcParams['figure.figsize'] = (12,5)"
   ]
  },
  {
   "cell_type": "markdown",
   "metadata": {},
   "source": [
    "# Пролог: Модуль sklearn\n",
    "На наших практических занятиях мы будем использовать [sklearn](http://scikit-learn.org/stable/index.html) (scikit-learn) - наиболее популярный модуль для работы с методами машинного обучения и анализа данных.\n",
    "\n",
    "Этот модуль регулярно обновляется, расширяется и сопровождается примерами использования тех или иных методов. Помимо самих алгоритмов (например k-средних или линейной регрессии) в нем есть множество вспомогательных функций по работе с данными."
   ]
  },
  {
   "cell_type": "markdown",
   "metadata": {},
   "source": [
    "# Туториал: Работа с различными типами признаков"
   ]
  },
  {
   "cell_type": "markdown",
   "metadata": {},
   "source": [
    "Вспомним какие типы признаков могут встретится при описании объектов исследования и как их представить в доступной для обработки компьтером форме"
   ]
  },
  {
   "cell_type": "markdown",
   "metadata": {},
   "source": [
    "Типы признаков мы будем рассматривать на примере довольно популярного набора данных [titanic](https://www.kaggle.com/c/titanic/download/train.csv) - информации о выживаемости пассажиров после известной трагедии корабля Titanic."
   ]
  },
  {
   "cell_type": "raw",
   "metadata": {},
   "source": [
    "ARIABLE DESCRIPTIONS:\n",
    "survival        Survival\n",
    "                (0 = No; 1 = Yes)\n",
    "pclass          Passenger Class\n",
    "                (1 = 1st; 2 = 2nd; 3 = 3rd)\n",
    "name            Name\n",
    "sex             Sex\n",
    "age             Age\n",
    "sibsp           Number of Siblings/Spouses Aboard\n",
    "parch           Number of Parents/Children Aboard\n",
    "ticket          Ticket Number\n",
    "fare            Passenger Fare\n",
    "cabin           Cabin\n",
    "embarked        Port of Embarkation\n",
    "                (C = Cherbourg; Q = Queenstown; S = Southampton)"
   ]
  },
  {
   "cell_type": "code",
   "execution_count": 2,
   "metadata": {},
   "outputs": [
    {
     "data": {
      "text/html": [
       "<div>\n",
       "<style>\n",
       "    .dataframe thead tr:only-child th {\n",
       "        text-align: right;\n",
       "    }\n",
       "\n",
       "    .dataframe thead th {\n",
       "        text-align: left;\n",
       "    }\n",
       "\n",
       "    .dataframe tbody tr th {\n",
       "        vertical-align: top;\n",
       "    }\n",
       "</style>\n",
       "<table border=\"1\" class=\"dataframe\">\n",
       "  <thead>\n",
       "    <tr style=\"text-align: right;\">\n",
       "      <th></th>\n",
       "      <th>PassengerId</th>\n",
       "      <th>Survived</th>\n",
       "      <th>Pclass</th>\n",
       "      <th>Name</th>\n",
       "      <th>Sex</th>\n",
       "      <th>Age</th>\n",
       "      <th>SibSp</th>\n",
       "      <th>Parch</th>\n",
       "      <th>Ticket</th>\n",
       "      <th>Fare</th>\n",
       "      <th>Cabin</th>\n",
       "      <th>Embarked</th>\n",
       "    </tr>\n",
       "  </thead>\n",
       "  <tbody>\n",
       "    <tr>\n",
       "      <th>1</th>\n",
       "      <td>2</td>\n",
       "      <td>1</td>\n",
       "      <td>1</td>\n",
       "      <td>Cumings, Mrs. John Bradley (Florence Briggs Th...</td>\n",
       "      <td>female</td>\n",
       "      <td>38.0</td>\n",
       "      <td>1</td>\n",
       "      <td>0</td>\n",
       "      <td>PC 17599</td>\n",
       "      <td>71.2833</td>\n",
       "      <td>C85</td>\n",
       "      <td>C</td>\n",
       "    </tr>\n",
       "    <tr>\n",
       "      <th>3</th>\n",
       "      <td>4</td>\n",
       "      <td>1</td>\n",
       "      <td>1</td>\n",
       "      <td>Futrelle, Mrs. Jacques Heath (Lily May Peel)</td>\n",
       "      <td>female</td>\n",
       "      <td>35.0</td>\n",
       "      <td>1</td>\n",
       "      <td>0</td>\n",
       "      <td>113803</td>\n",
       "      <td>53.1000</td>\n",
       "      <td>C123</td>\n",
       "      <td>S</td>\n",
       "    </tr>\n",
       "    <tr>\n",
       "      <th>6</th>\n",
       "      <td>7</td>\n",
       "      <td>0</td>\n",
       "      <td>1</td>\n",
       "      <td>McCarthy, Mr. Timothy J</td>\n",
       "      <td>male</td>\n",
       "      <td>54.0</td>\n",
       "      <td>0</td>\n",
       "      <td>0</td>\n",
       "      <td>17463</td>\n",
       "      <td>51.8625</td>\n",
       "      <td>E46</td>\n",
       "      <td>S</td>\n",
       "    </tr>\n",
       "    <tr>\n",
       "      <th>10</th>\n",
       "      <td>11</td>\n",
       "      <td>1</td>\n",
       "      <td>3</td>\n",
       "      <td>Sandstrom, Miss. Marguerite Rut</td>\n",
       "      <td>female</td>\n",
       "      <td>4.0</td>\n",
       "      <td>1</td>\n",
       "      <td>1</td>\n",
       "      <td>PP 9549</td>\n",
       "      <td>16.7000</td>\n",
       "      <td>G6</td>\n",
       "      <td>S</td>\n",
       "    </tr>\n",
       "    <tr>\n",
       "      <th>11</th>\n",
       "      <td>12</td>\n",
       "      <td>1</td>\n",
       "      <td>1</td>\n",
       "      <td>Bonnell, Miss. Elizabeth</td>\n",
       "      <td>female</td>\n",
       "      <td>58.0</td>\n",
       "      <td>0</td>\n",
       "      <td>0</td>\n",
       "      <td>113783</td>\n",
       "      <td>26.5500</td>\n",
       "      <td>C103</td>\n",
       "      <td>S</td>\n",
       "    </tr>\n",
       "  </tbody>\n",
       "</table>\n",
       "</div>"
      ],
      "text/plain": [
       "    PassengerId  Survived  Pclass  \\\n",
       "1             2         1       1   \n",
       "3             4         1       1   \n",
       "6             7         0       1   \n",
       "10           11         1       3   \n",
       "11           12         1       1   \n",
       "\n",
       "                                                 Name     Sex   Age  SibSp  \\\n",
       "1   Cumings, Mrs. John Bradley (Florence Briggs Th...  female  38.0      1   \n",
       "3        Futrelle, Mrs. Jacques Heath (Lily May Peel)  female  35.0      1   \n",
       "6                             McCarthy, Mr. Timothy J    male  54.0      0   \n",
       "10                    Sandstrom, Miss. Marguerite Rut  female   4.0      1   \n",
       "11                           Bonnell, Miss. Elizabeth  female  58.0      0   \n",
       "\n",
       "    Parch    Ticket     Fare Cabin Embarked  \n",
       "1       0  PC 17599  71.2833   C85        C  \n",
       "3       0    113803  53.1000  C123        S  \n",
       "6       0     17463  51.8625   E46        S  \n",
       "10      1   PP 9549  16.7000    G6        S  \n",
       "11      0    113783  26.5500  C103        S  "
      ]
     },
     "execution_count": 2,
     "metadata": {},
     "output_type": "execute_result"
    }
   ],
   "source": [
    "df_titanic = pd.read_csv('train.csv', sep=',').dropna()\n",
    "df_titanic.head()"
   ]
  },
  {
   "cell_type": "markdown",
   "metadata": {},
   "source": [
    "## Бинарные признаки\n",
    "Это признаки с двумя возможными значениями\n",
    "* Пол (мужской, женский)\n",
    "* Выжил (да, нет)\n",
    "\n",
    "На вход в алгоритмы обычно подаются в виде значений `{0, 1}` (реже в виде `{-1, 1}`)"
   ]
  },
  {
   "cell_type": "code",
   "execution_count": 3,
   "metadata": {},
   "outputs": [
    {
     "data": {
      "text/plain": [
       "1    123\n",
       "0     60\n",
       "Name: Survived, dtype: int64"
      ]
     },
     "execution_count": 3,
     "metadata": {},
     "output_type": "execute_result"
    }
   ],
   "source": [
    "# Здесь все нормально\n",
    "df_titanic.Survived.value_counts()"
   ]
  },
  {
   "cell_type": "code",
   "execution_count": 4,
   "metadata": {},
   "outputs": [
    {
     "data": {
      "text/plain": [
       "male      95\n",
       "female    88\n",
       "Name: Sex, dtype: int64"
      ]
     },
     "execution_count": 4,
     "metadata": {},
     "output_type": "execute_result"
    }
   ],
   "source": [
    "# Тут стоит выполнить переобознаение\n",
    "df_titanic.Sex.value_counts()"
   ]
  },
  {
   "cell_type": "code",
   "execution_count": 5,
   "metadata": {},
   "outputs": [
    {
     "data": {
      "text/plain": [
       "0    95\n",
       "1    88\n",
       "Name: Sex, dtype: int64"
      ]
     },
     "execution_count": 5,
     "metadata": {},
     "output_type": "execute_result"
    }
   ],
   "source": [
    "# Например так\n",
    "df_titanic.Sex = df_titanic.Sex.replace({'male': 0, 'female': 1})\n",
    "df_titanic.Sex.value_counts()"
   ]
  },
  {
   "cell_type": "markdown",
   "metadata": {},
   "source": [
    "## Вещественные признаки\n",
    "\n",
    "* Возраст\n",
    "* Сумма, потраченная на билет\n",
    "* Количество родственников на борту\n",
    "\n",
    "Как правило остаются в том же виде или выполняется **нормализация** признаков, т.е. переход к одинаковой шкале, например:\n",
    "\n",
    "* $\\tilde{x} = \\frac{x - \\text{mean}(x)}{\\text{std}(x)}$\n",
    "* $\\tilde{x} = \\frac{x - \\text{min}(x)}{\\text{max}(x) - \\text{min}(x)}$"
   ]
  },
  {
   "cell_type": "markdown",
   "metadata": {},
   "source": [
    "## Категориальные признаки\n",
    "\n",
    "Принимают значения из *неупорядоченного* множества\n",
    "\n",
    "* Порт погрузки (C = Cherbourg; Q = Queenstown; S = Southampton)\n",
    "* Точка отправления (St Louis, MO; Montreal, PQ; .. }\n",
    "* Точка назначения (Chesterville, ON; Roseville, IL; .. }\n",
    "\n",
    "Обычно такие признаки кодируют с помощью так называемого One Hot Encoding: </br>\n",
    "для каждой категории создается бинарная маска-столбец, в которой стоит `1` если значение признака равно значению соответствующей категории категории.\n",
    "\n",
    "Например, для признака \"порт погрзки\" создается бинарная макска из трех стобцов для каждого из портов: С, Q, S<br/>\n",
    "Если пассажир заходил на кораблю в порту Southampton, то его признаковое описание будет соответственно: `[0, 0, 1]`"
   ]
  },
  {
   "cell_type": "code",
   "execution_count": 6,
   "metadata": {},
   "outputs": [
    {
     "data": {
      "text/plain": [
       "1     C\n",
       "3     S\n",
       "6     S\n",
       "10    S\n",
       "11    S\n",
       "Name: Embarked, dtype: object"
      ]
     },
     "execution_count": 6,
     "metadata": {},
     "output_type": "execute_result"
    }
   ],
   "source": [
    "df_titanic.Embarked.head()"
   ]
  },
  {
   "cell_type": "code",
   "execution_count": 7,
   "metadata": {},
   "outputs": [
    {
     "data": {
      "text/html": [
       "<div>\n",
       "<style>\n",
       "    .dataframe thead tr:only-child th {\n",
       "        text-align: right;\n",
       "    }\n",
       "\n",
       "    .dataframe thead th {\n",
       "        text-align: left;\n",
       "    }\n",
       "\n",
       "    .dataframe tbody tr th {\n",
       "        vertical-align: top;\n",
       "    }\n",
       "</style>\n",
       "<table border=\"1\" class=\"dataframe\">\n",
       "  <thead>\n",
       "    <tr style=\"text-align: right;\">\n",
       "      <th></th>\n",
       "      <th>Embarked=C</th>\n",
       "      <th>Embarked=Q</th>\n",
       "      <th>Embarked=S</th>\n",
       "    </tr>\n",
       "  </thead>\n",
       "  <tbody>\n",
       "    <tr>\n",
       "      <th>1</th>\n",
       "      <td>1</td>\n",
       "      <td>0</td>\n",
       "      <td>0</td>\n",
       "    </tr>\n",
       "    <tr>\n",
       "      <th>3</th>\n",
       "      <td>0</td>\n",
       "      <td>0</td>\n",
       "      <td>1</td>\n",
       "    </tr>\n",
       "    <tr>\n",
       "      <th>6</th>\n",
       "      <td>0</td>\n",
       "      <td>0</td>\n",
       "      <td>1</td>\n",
       "    </tr>\n",
       "    <tr>\n",
       "      <th>10</th>\n",
       "      <td>0</td>\n",
       "      <td>0</td>\n",
       "      <td>1</td>\n",
       "    </tr>\n",
       "    <tr>\n",
       "      <th>11</th>\n",
       "      <td>0</td>\n",
       "      <td>0</td>\n",
       "      <td>1</td>\n",
       "    </tr>\n",
       "  </tbody>\n",
       "</table>\n",
       "</div>"
      ],
      "text/plain": [
       "    Embarked=C  Embarked=Q  Embarked=S\n",
       "1            1           0           0\n",
       "3            0           0           1\n",
       "6            0           0           1\n",
       "10           0           0           1\n",
       "11           0           0           1"
      ]
     },
     "execution_count": 7,
     "metadata": {},
     "output_type": "execute_result"
    }
   ],
   "source": [
    "# Сделать в python это можно несколькими способами:\n",
    "\n",
    "# 1: Через pandas (не очень рекомендуется)\n",
    "emb = pd.get_dummies(df_titanic.Embarked, prefix='Embarked', prefix_sep='=')\n",
    "emb.head()"
   ]
  },
  {
   "cell_type": "code",
   "execution_count": 8,
   "metadata": {},
   "outputs": [
    {
     "data": {
      "text/plain": [
       "array([[ 1.,  0.,  0.],\n",
       "       [ 0.,  0.,  1.],\n",
       "       [ 0.,  0.,  1.],\n",
       "       [ 0.,  0.,  1.],\n",
       "       [ 0.,  0.,  1.]])"
      ]
     },
     "execution_count": 8,
     "metadata": {},
     "output_type": "execute_result"
    }
   ],
   "source": [
    "# 2: Функционал sklearn\n",
    "from sklearn.preprocessing import OneHotEncoder\n",
    "\n",
    "encoder = OneHotEncoder(sparse=False)\n",
    "\n",
    "emb = df_titanic.loc[:, ['Embarked']].replace({'C': 0, 'Q': 1, 'S': 2}).values\n",
    "emb_enc = encoder.fit_transform(emb)\n",
    "emb_enc[:5]"
   ]
  },
  {
   "cell_type": "markdown",
   "metadata": {},
   "source": [
    "Про другием способы работы с категориальными переменными можно прочитать вот [тут](https://alexanderdyakonov.wordpress.com/2016/08/03/python-%D0%BA%D0%B0%D1%82%D0%B5%D0%B3%D0%BE%D1%80%D0%B8%D0%B0%D0%BB%D1%8C%D0%BD%D1%8B%D0%B5-%D0%BF%D1%80%D0%B8%D0%B7%D0%BD%D0%B0%D0%BA%D0%B8/)"
   ]
  },
  {
   "cell_type": "markdown",
   "metadata": {},
   "source": [
    "## Порядковый признаки"
   ]
  },
  {
   "cell_type": "markdown",
   "metadata": {},
   "source": [
    "Принимают значения из *упорядоченного* множества\n",
    "\n",
    "* Класс каюты (1 > 2 > 3)\n",
    "\n",
    "В зависимости от метода остаются можно оставить в исходном виде или применить OneHotEncoding."
   ]
  },
  {
   "cell_type": "markdown",
   "metadata": {},
   "source": [
    "## Текстовые признаки - Bag of words"
   ]
  },
  {
   "cell_type": "markdown",
   "metadata": {},
   "source": [
    "Для демонстрации возьмем текст стихотворения Блока:\n",
    "\n",
    "Ночь, улица, фонарь, аптека,<br/>\n",
    "Бессмысленный и тусклый свет.<br/>\n",
    "Живи еще хоть четверть века -<br/>\n",
    "Все будет так. Исхода нет.<br/>\n",
    "\n",
    "Умрешь - начнешь опять сначала<br/>\n",
    "И повторится все, как встарь:<br/>\n",
    "Ночь, ледяная рябь канала,<br/>\n",
    "Аптека, улица, фонарь.<br/>\n",
    "\n",
    "Пусть каждая строчка - это будет условный документ. Переведем эти документы в числовое представление по методу мешка слов (Bag Of Words)"
   ]
  },
  {
   "cell_type": "code",
   "execution_count": 9,
   "metadata": {
    "collapsed": true
   },
   "outputs": [],
   "source": [
    "from sklearn.feature_extraction.text import CountVectorizer\n",
    "from sklearn.feature_extraction.text import TfidfVectorizer\n",
    "\n",
    "corpus = \\\n",
    "[u'Ночь, улица, фонарь, аптека,',\n",
    " u'Бессмысленный и тусклый свет.',\n",
    " u'Живи еще хоть четверть века -',\n",
    " u'Все будет так. Исхода нет.',\n",
    " u'Умрешь - начнешь опять сначала',\n",
    " u'И повторится все, как встарь:',\n",
    " u'Ночь, ледяная рябь канала,',\n",
    " u'Аптека, улица, фонарь.']"
   ]
  },
  {
   "cell_type": "code",
   "execution_count": 10,
   "metadata": {},
   "outputs": [
    {
     "data": {
      "text/plain": [
       "(8L, 27L)"
      ]
     },
     "execution_count": 10,
     "metadata": {},
     "output_type": "execute_result"
    }
   ],
   "source": [
    "vect = CountVectorizer()\n",
    "\n",
    "bow = vect.fit_transform(corpus)\n",
    "bow = bow.toarray()\n",
    "bow.shape"
   ]
  },
  {
   "cell_type": "markdown",
   "metadata": {},
   "source": [
    "Получили матрицу размера $8 \\times 27$, так как у нас 8 строчек и выделилось 27 униальных слов. Элемент матрицы показывает сколько раз слово встречалось в соответствующем документе."
   ]
  },
  {
   "cell_type": "code",
   "execution_count": 11,
   "metadata": {},
   "outputs": [
    {
     "data": {
      "text/plain": [
       "array([[1, 0, 0, 0, 0, 0, 0, 0, 0, 0, 0, 0, 0, 0, 1, 0, 0, 0, 0, 0, 0, 0,\n",
       "        1, 0, 1, 0, 0],\n",
       "       [0, 1, 0, 0, 0, 0, 0, 0, 0, 0, 0, 0, 0, 0, 0, 0, 0, 0, 1, 0, 0, 1,\n",
       "        0, 0, 0, 0, 0],\n",
       "       [0, 0, 0, 1, 0, 0, 1, 1, 0, 0, 0, 0, 0, 0, 0, 0, 0, 0, 0, 0, 0, 0,\n",
       "        0, 0, 0, 1, 1],\n",
       "       [0, 0, 1, 0, 1, 0, 0, 0, 1, 0, 0, 0, 0, 1, 0, 0, 0, 0, 0, 0, 1, 0,\n",
       "        0, 0, 0, 0, 0],\n",
       "       [0, 0, 0, 0, 0, 0, 0, 0, 0, 0, 0, 0, 1, 0, 0, 1, 0, 0, 0, 1, 0, 0,\n",
       "        0, 1, 0, 0, 0],\n",
       "       [0, 0, 0, 0, 1, 1, 0, 0, 0, 1, 0, 0, 0, 0, 0, 0, 1, 0, 0, 0, 0, 0,\n",
       "        0, 0, 0, 0, 0],\n",
       "       [0, 0, 0, 0, 0, 0, 0, 0, 0, 0, 1, 1, 0, 0, 1, 0, 0, 1, 0, 0, 0, 0,\n",
       "        0, 0, 0, 0, 0],\n",
       "       [1, 0, 0, 0, 0, 0, 0, 0, 0, 0, 0, 0, 0, 0, 0, 0, 0, 0, 0, 0, 0, 0,\n",
       "        1, 0, 1, 0, 0]], dtype=int64)"
      ]
     },
     "execution_count": 11,
     "metadata": {},
     "output_type": "execute_result"
    }
   ],
   "source": [
    "bow"
   ]
  },
  {
   "cell_type": "code",
   "execution_count": 12,
   "metadata": {},
   "outputs": [
    {
     "name": "stdout",
     "output_type": "stream",
     "text": [
      "столбец 0: аптека\n",
      "столбец 1: бессмысленный\n",
      "столбец 2: будет\n",
      "столбец 3: века\n",
      "столбец 4: все\n",
      "столбец 5: встарь\n",
      "столбец 6: еще\n",
      "столбец 7: живи\n",
      "столбец 8: исхода\n",
      "столбец 9: как\n",
      "столбец 10: канала\n",
      "столбец 11: ледяная\n",
      "столбец 12: начнешь\n",
      "столбец 13: нет\n",
      "столбец 14: ночь\n",
      "столбец 15: опять\n",
      "столбец 16: повторится\n",
      "столбец 17: рябь\n",
      "столбец 18: свет\n",
      "столбец 19: сначала\n",
      "столбец 20: так\n",
      "столбец 21: тусклый\n",
      "столбец 22: улица\n",
      "столбец 23: умрешь\n",
      "столбец 24: фонарь\n",
      "столбец 25: хоть\n",
      "столбец 26: четверть\n"
     ]
    }
   ],
   "source": [
    "# Посмотрим какие слова стоят по столбцам\n",
    "for i, w in enumerate(vect.get_feature_names()):\n",
    "    print u'столбец %d: %s' % (i, w)"
   ]
  },
  {
   "cell_type": "markdown",
   "metadata": {},
   "source": [
    "# Туториал: Имплементация собственного метода"
   ]
  },
  {
   "cell_type": "markdown",
   "metadata": {},
   "source": [
    "Для решения задач вида \"имплементируйте метод X\" крайне желательно (но необязательно) реализовывать методы с помощью интерфейса sklearn. Ниже вы увидите пример очень простого **классификатора**. Используйте эти наработи для выполнения задания."
   ]
  },
  {
   "cell_type": "markdown",
   "metadata": {},
   "source": [
    "Загрузите [датасет](https://archive.ics.uci.edu/ml/machine-learning-databases/wine-quality/winequality-red.csv) с информацией о характеристиках вина и его качестве. (В метод `pd.read_csv()` можно подать веб-ссылку на данные и пандас их скачает и преобразует в `DataFrame`)."
   ]
  },
  {
   "cell_type": "code",
   "execution_count": 13,
   "metadata": {
    "collapsed": true
   },
   "outputs": [],
   "source": [
    "df_wine = pd.read_csv('https://archive.ics.uci.edu/ml/machine-learning-databases/wine-quality/winequality-red.csv', sep=';')"
   ]
  },
  {
   "cell_type": "code",
   "execution_count": 14,
   "metadata": {},
   "outputs": [
    {
     "data": {
      "text/html": [
       "<div>\n",
       "<style>\n",
       "    .dataframe thead tr:only-child th {\n",
       "        text-align: right;\n",
       "    }\n",
       "\n",
       "    .dataframe thead th {\n",
       "        text-align: left;\n",
       "    }\n",
       "\n",
       "    .dataframe tbody tr th {\n",
       "        vertical-align: top;\n",
       "    }\n",
       "</style>\n",
       "<table border=\"1\" class=\"dataframe\">\n",
       "  <thead>\n",
       "    <tr style=\"text-align: right;\">\n",
       "      <th></th>\n",
       "      <th>fixed acidity</th>\n",
       "      <th>volatile acidity</th>\n",
       "      <th>citric acid</th>\n",
       "      <th>residual sugar</th>\n",
       "      <th>chlorides</th>\n",
       "      <th>free sulfur dioxide</th>\n",
       "      <th>total sulfur dioxide</th>\n",
       "      <th>density</th>\n",
       "      <th>pH</th>\n",
       "      <th>sulphates</th>\n",
       "      <th>alcohol</th>\n",
       "      <th>quality</th>\n",
       "    </tr>\n",
       "  </thead>\n",
       "  <tbody>\n",
       "    <tr>\n",
       "      <th>0</th>\n",
       "      <td>7.4</td>\n",
       "      <td>0.70</td>\n",
       "      <td>0.00</td>\n",
       "      <td>1.9</td>\n",
       "      <td>0.076</td>\n",
       "      <td>11.0</td>\n",
       "      <td>34.0</td>\n",
       "      <td>0.9978</td>\n",
       "      <td>3.51</td>\n",
       "      <td>0.56</td>\n",
       "      <td>9.4</td>\n",
       "      <td>5</td>\n",
       "    </tr>\n",
       "    <tr>\n",
       "      <th>1</th>\n",
       "      <td>7.8</td>\n",
       "      <td>0.88</td>\n",
       "      <td>0.00</td>\n",
       "      <td>2.6</td>\n",
       "      <td>0.098</td>\n",
       "      <td>25.0</td>\n",
       "      <td>67.0</td>\n",
       "      <td>0.9968</td>\n",
       "      <td>3.20</td>\n",
       "      <td>0.68</td>\n",
       "      <td>9.8</td>\n",
       "      <td>5</td>\n",
       "    </tr>\n",
       "    <tr>\n",
       "      <th>2</th>\n",
       "      <td>7.8</td>\n",
       "      <td>0.76</td>\n",
       "      <td>0.04</td>\n",
       "      <td>2.3</td>\n",
       "      <td>0.092</td>\n",
       "      <td>15.0</td>\n",
       "      <td>54.0</td>\n",
       "      <td>0.9970</td>\n",
       "      <td>3.26</td>\n",
       "      <td>0.65</td>\n",
       "      <td>9.8</td>\n",
       "      <td>5</td>\n",
       "    </tr>\n",
       "    <tr>\n",
       "      <th>3</th>\n",
       "      <td>11.2</td>\n",
       "      <td>0.28</td>\n",
       "      <td>0.56</td>\n",
       "      <td>1.9</td>\n",
       "      <td>0.075</td>\n",
       "      <td>17.0</td>\n",
       "      <td>60.0</td>\n",
       "      <td>0.9980</td>\n",
       "      <td>3.16</td>\n",
       "      <td>0.58</td>\n",
       "      <td>9.8</td>\n",
       "      <td>6</td>\n",
       "    </tr>\n",
       "    <tr>\n",
       "      <th>4</th>\n",
       "      <td>7.4</td>\n",
       "      <td>0.70</td>\n",
       "      <td>0.00</td>\n",
       "      <td>1.9</td>\n",
       "      <td>0.076</td>\n",
       "      <td>11.0</td>\n",
       "      <td>34.0</td>\n",
       "      <td>0.9978</td>\n",
       "      <td>3.51</td>\n",
       "      <td>0.56</td>\n",
       "      <td>9.4</td>\n",
       "      <td>5</td>\n",
       "    </tr>\n",
       "  </tbody>\n",
       "</table>\n",
       "</div>"
      ],
      "text/plain": [
       "   fixed acidity  volatile acidity  citric acid  residual sugar  chlorides  \\\n",
       "0            7.4              0.70         0.00             1.9      0.076   \n",
       "1            7.8              0.88         0.00             2.6      0.098   \n",
       "2            7.8              0.76         0.04             2.3      0.092   \n",
       "3           11.2              0.28         0.56             1.9      0.075   \n",
       "4            7.4              0.70         0.00             1.9      0.076   \n",
       "\n",
       "   free sulfur dioxide  total sulfur dioxide  density    pH  sulphates  \\\n",
       "0                 11.0                  34.0   0.9978  3.51       0.56   \n",
       "1                 25.0                  67.0   0.9968  3.20       0.68   \n",
       "2                 15.0                  54.0   0.9970  3.26       0.65   \n",
       "3                 17.0                  60.0   0.9980  3.16       0.58   \n",
       "4                 11.0                  34.0   0.9978  3.51       0.56   \n",
       "\n",
       "   alcohol  quality  \n",
       "0      9.4        5  \n",
       "1      9.8        5  \n",
       "2      9.8        5  \n",
       "3      9.8        6  \n",
       "4      9.4        5  "
      ]
     },
     "execution_count": 14,
     "metadata": {},
     "output_type": "execute_result"
    }
   ],
   "source": [
    "df_wine.head()"
   ]
  },
  {
   "cell_type": "markdown",
   "metadata": {},
   "source": [
    "Наша задача состоит в предсказании целевого признака `quality` по остальным признакам. `quality` - это вещественная переменная (оценка качества от 0 до 10). Упростим себе задачу - создадим новый столбец `quality_cat` по следующим правилам:\n",
    "\n",
    "* `quality_cat = 1` если `quality > 5` \n",
    "* `quality_cat = 0` - иначе \n",
    "\n",
    "Таким образом, `quality_cat` характерует \"плохое\" и \"хорошее\" вино."
   ]
  },
  {
   "cell_type": "code",
   "execution_count": 15,
   "metadata": {
    "collapsed": true
   },
   "outputs": [],
   "source": [
    "def prepocess_wine(df):\n",
    "    df.loc[:, 'quality_cat'] = (df.loc[:, 'quality'] > 5).astype(int)\n",
    "    df = df.drop('quality', axis=1)\n",
    "    \n",
    "    return df"
   ]
  },
  {
   "cell_type": "code",
   "execution_count": 16,
   "metadata": {},
   "outputs": [
    {
     "data": {
      "text/html": [
       "<div>\n",
       "<style>\n",
       "    .dataframe thead tr:only-child th {\n",
       "        text-align: right;\n",
       "    }\n",
       "\n",
       "    .dataframe thead th {\n",
       "        text-align: left;\n",
       "    }\n",
       "\n",
       "    .dataframe tbody tr th {\n",
       "        vertical-align: top;\n",
       "    }\n",
       "</style>\n",
       "<table border=\"1\" class=\"dataframe\">\n",
       "  <thead>\n",
       "    <tr style=\"text-align: right;\">\n",
       "      <th></th>\n",
       "      <th>fixed acidity</th>\n",
       "      <th>volatile acidity</th>\n",
       "      <th>citric acid</th>\n",
       "      <th>residual sugar</th>\n",
       "      <th>chlorides</th>\n",
       "      <th>free sulfur dioxide</th>\n",
       "      <th>total sulfur dioxide</th>\n",
       "      <th>density</th>\n",
       "      <th>pH</th>\n",
       "      <th>sulphates</th>\n",
       "      <th>alcohol</th>\n",
       "      <th>quality_cat</th>\n",
       "    </tr>\n",
       "  </thead>\n",
       "  <tbody>\n",
       "    <tr>\n",
       "      <th>0</th>\n",
       "      <td>7.4</td>\n",
       "      <td>0.70</td>\n",
       "      <td>0.00</td>\n",
       "      <td>1.9</td>\n",
       "      <td>0.076</td>\n",
       "      <td>11.0</td>\n",
       "      <td>34.0</td>\n",
       "      <td>0.9978</td>\n",
       "      <td>3.51</td>\n",
       "      <td>0.56</td>\n",
       "      <td>9.4</td>\n",
       "      <td>0</td>\n",
       "    </tr>\n",
       "    <tr>\n",
       "      <th>1</th>\n",
       "      <td>7.8</td>\n",
       "      <td>0.88</td>\n",
       "      <td>0.00</td>\n",
       "      <td>2.6</td>\n",
       "      <td>0.098</td>\n",
       "      <td>25.0</td>\n",
       "      <td>67.0</td>\n",
       "      <td>0.9968</td>\n",
       "      <td>3.20</td>\n",
       "      <td>0.68</td>\n",
       "      <td>9.8</td>\n",
       "      <td>0</td>\n",
       "    </tr>\n",
       "    <tr>\n",
       "      <th>2</th>\n",
       "      <td>7.8</td>\n",
       "      <td>0.76</td>\n",
       "      <td>0.04</td>\n",
       "      <td>2.3</td>\n",
       "      <td>0.092</td>\n",
       "      <td>15.0</td>\n",
       "      <td>54.0</td>\n",
       "      <td>0.9970</td>\n",
       "      <td>3.26</td>\n",
       "      <td>0.65</td>\n",
       "      <td>9.8</td>\n",
       "      <td>0</td>\n",
       "    </tr>\n",
       "    <tr>\n",
       "      <th>3</th>\n",
       "      <td>11.2</td>\n",
       "      <td>0.28</td>\n",
       "      <td>0.56</td>\n",
       "      <td>1.9</td>\n",
       "      <td>0.075</td>\n",
       "      <td>17.0</td>\n",
       "      <td>60.0</td>\n",
       "      <td>0.9980</td>\n",
       "      <td>3.16</td>\n",
       "      <td>0.58</td>\n",
       "      <td>9.8</td>\n",
       "      <td>1</td>\n",
       "    </tr>\n",
       "    <tr>\n",
       "      <th>4</th>\n",
       "      <td>7.4</td>\n",
       "      <td>0.70</td>\n",
       "      <td>0.00</td>\n",
       "      <td>1.9</td>\n",
       "      <td>0.076</td>\n",
       "      <td>11.0</td>\n",
       "      <td>34.0</td>\n",
       "      <td>0.9978</td>\n",
       "      <td>3.51</td>\n",
       "      <td>0.56</td>\n",
       "      <td>9.4</td>\n",
       "      <td>0</td>\n",
       "    </tr>\n",
       "  </tbody>\n",
       "</table>\n",
       "</div>"
      ],
      "text/plain": [
       "   fixed acidity  volatile acidity  citric acid  residual sugar  chlorides  \\\n",
       "0            7.4              0.70         0.00             1.9      0.076   \n",
       "1            7.8              0.88         0.00             2.6      0.098   \n",
       "2            7.8              0.76         0.04             2.3      0.092   \n",
       "3           11.2              0.28         0.56             1.9      0.075   \n",
       "4            7.4              0.70         0.00             1.9      0.076   \n",
       "\n",
       "   free sulfur dioxide  total sulfur dioxide  density    pH  sulphates  \\\n",
       "0                 11.0                  34.0   0.9978  3.51       0.56   \n",
       "1                 25.0                  67.0   0.9968  3.20       0.68   \n",
       "2                 15.0                  54.0   0.9970  3.26       0.65   \n",
       "3                 17.0                  60.0   0.9980  3.16       0.58   \n",
       "4                 11.0                  34.0   0.9978  3.51       0.56   \n",
       "\n",
       "   alcohol  quality_cat  \n",
       "0      9.4            0  \n",
       "1      9.8            0  \n",
       "2      9.8            0  \n",
       "3      9.8            1  \n",
       "4      9.4            0  "
      ]
     },
     "execution_count": 16,
     "metadata": {},
     "output_type": "execute_result"
    }
   ],
   "source": [
    "df_wine = df_wine.pipe(prepocess_wine)\n",
    "df_wine.head()"
   ]
  },
  {
   "cell_type": "markdown",
   "metadata": {},
   "source": [
    "Нарисуем распределение хорошего и плохого вина по признаку `alcohol`."
   ]
  },
  {
   "cell_type": "code",
   "execution_count": 17,
   "metadata": {},
   "outputs": [
    {
     "data": {
      "text/plain": [
       "<matplotlib.legend.Legend at 0xc90f4a8>"
      ]
     },
     "execution_count": 17,
     "metadata": {},
     "output_type": "execute_result"
    },
    {
     "data": {
      "image/png": "[encoded data removed]",
      "text/plain": [
       "<matplotlib.figure.Figure at 0xca524e0>"
      ]
     },
     "metadata": {},
     "output_type": "display_data"
    }
   ],
   "source": [
    "_, ax = plt.subplots(1,1)\n",
    "df_wine.query('quality_cat == 1').hist('alcohol', alpha=0.3, bins=20, label='good', ax=ax)\n",
    "df_wine.query('quality_cat == 0').hist('alcohol', alpha=0.3, bins=20, label='bad', ax=ax)\n",
    "ax.set_xlabel('alcohol')\n",
    "ax.set_ylabel('count')\n",
    "plt.legend()"
   ]
  },
  {
   "cell_type": "markdown",
   "metadata": {},
   "source": [
    "Визуально кажется, что можно найти некоторое пороговое значение признака `alcohol` $\\theta$, чтобы хорошо дискриминировать между плохими и хорошим вином:\n",
    "* Если `alcohol >` $\\theta$ - то предсказываем, что вино хорошее\n",
    "* Если `alcohol <=` $\\theta$ - то предсказываем, что вино плохое\n",
    "\n",
    "Обучаеть классификатор будем очень просто: перебирать значения признака alchol и считать **ошибку** классификации. То значение, где ошибка минимальна и будет оптимальным.\n",
    "\n",
    "Разделим целевой признак от остальных признаков"
   ]
  },
  {
   "cell_type": "code",
   "execution_count": 18,
   "metadata": {
    "collapsed": true
   },
   "outputs": [],
   "source": [
    "X, y = df_wine.iloc[:, :-1].values, df_wine.iloc[:, -1].values"
   ]
  },
  {
   "cell_type": "markdown",
   "metadata": {},
   "source": [
    "Далее вы увидете пример реализации этого простого классификатора."
   ]
  },
  {
   "cell_type": "code",
   "execution_count": 19,
   "metadata": {
    "collapsed": true
   },
   "outputs": [],
   "source": [
    "from sklearn.base import BaseEstimator, ClassifierMixin\n",
    "\n",
    "class SimpleClassifier(BaseEstimator, ClassifierMixin): \n",
    "    \n",
    "    def __init__(self):\n",
    "        \"\"\"\n",
    "        Инициализация метода\n",
    "        \"\"\"\n",
    "        \n",
    "        self.threshold = 0\n",
    "\n",
    "    def fit(self, X, y=None):\n",
    "        \"\"\"\n",
    "        Выполняет процедуру обучения классификатора. В данном случае - перебор занчения признака alcohol.\n",
    "        Договоримся, что признак alcohol будет в последнем столбце матрицы X\n",
    "        \"\"\"\n",
    "        \n",
    "        alcohol = X[:,-1]\n",
    "        n = float(y.shape[0])\n",
    "        \n",
    "        # Задаем пространство поиска\n",
    "        alco_range = np.arange(alcohol.min(), alcohol.max(), 0.1)\n",
    "        \n",
    "        min_error_rate = 1\n",
    "                \n",
    "        #  Начинаем поиск\n",
    "        for theta in alco_range:\n",
    "            prediction = alcohol > theta\n",
    "            \n",
    "            error_rate = sum(prediction != y)/n\n",
    "            \n",
    "            if error_rate < min_error_rate:\n",
    "                min_error_rate = error_rate\n",
    "                self.threshold = theta  \n",
    "        \n",
    "        return self\n",
    "\n",
    "    def predict(self, X, y=None):\n",
    "        \"\"\"\n",
    "        Процедура предсказания класса по обученному порогу\n",
    "        \"\"\"\n",
    "        \n",
    "        return (X[:,-1] > self.threshold).astype(int)"
   ]
  },
  {
   "cell_type": "markdown",
   "metadata": {},
   "source": [
    "Обучаем модель"
   ]
  },
  {
   "cell_type": "code",
   "execution_count": 20,
   "metadata": {},
   "outputs": [
    {
     "name": "stdout",
     "output_type": "stream",
     "text": [
      "Оптимальный порог: 10.000000\n"
     ]
    }
   ],
   "source": [
    "model = SimpleClassifier()\n",
    "model.fit(X, y)\n",
    "\n",
    "print 'Оптимальный порог: %f' % model.threshold"
   ]
  },
  {
   "cell_type": "markdown",
   "metadata": {},
   "source": [
    "Получаем предсказание модели (на обучающей выборке)"
   ]
  },
  {
   "cell_type": "code",
   "execution_count": 21,
   "metadata": {
    "collapsed": true
   },
   "outputs": [],
   "source": [
    "y_hat = model.predict(X)"
   ]
  },
  {
   "cell_type": "markdown",
   "metadata": {},
   "source": [
    "Оценим долю ошибок на обучающей выборке"
   ]
  },
  {
   "cell_type": "code",
   "execution_count": 22,
   "metadata": {},
   "outputs": [
    {
     "name": "stdout",
     "output_type": "stream",
     "text": [
      "Доля ошибок на обучающей выборке: 0.295184\n"
     ]
    }
   ],
   "source": [
    "error_rate = sum(y_hat != y)/float(y.shape[0])\n",
    "print 'Доля ошибок на обучающей выборке: %f' % error_rate"
   ]
  },
  {
   "cell_type": "markdown",
   "metadata": {},
   "source": [
    "## Проверка метода на контрольной выборке\n",
    "\n",
    "Мы обучили наш метод на данных о красном виде. \n",
    "\n",
    "Посмотрим, выполняется ли так же хорошо закономерность между качеством и уровнем алкоголя в белом вине."
   ]
  },
  {
   "cell_type": "code",
   "execution_count": 23,
   "metadata": {},
   "outputs": [
    {
     "data": {
      "text/html": [
       "<div>\n",
       "<style>\n",
       "    .dataframe thead tr:only-child th {\n",
       "        text-align: right;\n",
       "    }\n",
       "\n",
       "    .dataframe thead th {\n",
       "        text-align: left;\n",
       "    }\n",
       "\n",
       "    .dataframe tbody tr th {\n",
       "        vertical-align: top;\n",
       "    }\n",
       "</style>\n",
       "<table border=\"1\" class=\"dataframe\">\n",
       "  <thead>\n",
       "    <tr style=\"text-align: right;\">\n",
       "      <th></th>\n",
       "      <th>fixed acidity</th>\n",
       "      <th>volatile acidity</th>\n",
       "      <th>citric acid</th>\n",
       "      <th>residual sugar</th>\n",
       "      <th>chlorides</th>\n",
       "      <th>free sulfur dioxide</th>\n",
       "      <th>total sulfur dioxide</th>\n",
       "      <th>density</th>\n",
       "      <th>pH</th>\n",
       "      <th>sulphates</th>\n",
       "      <th>alcohol</th>\n",
       "      <th>quality_cat</th>\n",
       "    </tr>\n",
       "  </thead>\n",
       "  <tbody>\n",
       "    <tr>\n",
       "      <th>0</th>\n",
       "      <td>7.0</td>\n",
       "      <td>0.27</td>\n",
       "      <td>0.36</td>\n",
       "      <td>20.7</td>\n",
       "      <td>0.045</td>\n",
       "      <td>45.0</td>\n",
       "      <td>170.0</td>\n",
       "      <td>1.0010</td>\n",
       "      <td>3.00</td>\n",
       "      <td>0.45</td>\n",
       "      <td>8.8</td>\n",
       "      <td>1</td>\n",
       "    </tr>\n",
       "    <tr>\n",
       "      <th>1</th>\n",
       "      <td>6.3</td>\n",
       "      <td>0.30</td>\n",
       "      <td>0.34</td>\n",
       "      <td>1.6</td>\n",
       "      <td>0.049</td>\n",
       "      <td>14.0</td>\n",
       "      <td>132.0</td>\n",
       "      <td>0.9940</td>\n",
       "      <td>3.30</td>\n",
       "      <td>0.49</td>\n",
       "      <td>9.5</td>\n",
       "      <td>1</td>\n",
       "    </tr>\n",
       "    <tr>\n",
       "      <th>2</th>\n",
       "      <td>8.1</td>\n",
       "      <td>0.28</td>\n",
       "      <td>0.40</td>\n",
       "      <td>6.9</td>\n",
       "      <td>0.050</td>\n",
       "      <td>30.0</td>\n",
       "      <td>97.0</td>\n",
       "      <td>0.9951</td>\n",
       "      <td>3.26</td>\n",
       "      <td>0.44</td>\n",
       "      <td>10.1</td>\n",
       "      <td>1</td>\n",
       "    </tr>\n",
       "    <tr>\n",
       "      <th>3</th>\n",
       "      <td>7.2</td>\n",
       "      <td>0.23</td>\n",
       "      <td>0.32</td>\n",
       "      <td>8.5</td>\n",
       "      <td>0.058</td>\n",
       "      <td>47.0</td>\n",
       "      <td>186.0</td>\n",
       "      <td>0.9956</td>\n",
       "      <td>3.19</td>\n",
       "      <td>0.40</td>\n",
       "      <td>9.9</td>\n",
       "      <td>1</td>\n",
       "    </tr>\n",
       "    <tr>\n",
       "      <th>4</th>\n",
       "      <td>7.2</td>\n",
       "      <td>0.23</td>\n",
       "      <td>0.32</td>\n",
       "      <td>8.5</td>\n",
       "      <td>0.058</td>\n",
       "      <td>47.0</td>\n",
       "      <td>186.0</td>\n",
       "      <td>0.9956</td>\n",
       "      <td>3.19</td>\n",
       "      <td>0.40</td>\n",
       "      <td>9.9</td>\n",
       "      <td>1</td>\n",
       "    </tr>\n",
       "  </tbody>\n",
       "</table>\n",
       "</div>"
      ],
      "text/plain": [
       "   fixed acidity  volatile acidity  citric acid  residual sugar  chlorides  \\\n",
       "0            7.0              0.27         0.36            20.7      0.045   \n",
       "1            6.3              0.30         0.34             1.6      0.049   \n",
       "2            8.1              0.28         0.40             6.9      0.050   \n",
       "3            7.2              0.23         0.32             8.5      0.058   \n",
       "4            7.2              0.23         0.32             8.5      0.058   \n",
       "\n",
       "   free sulfur dioxide  total sulfur dioxide  density    pH  sulphates  \\\n",
       "0                 45.0                 170.0   1.0010  3.00       0.45   \n",
       "1                 14.0                 132.0   0.9940  3.30       0.49   \n",
       "2                 30.0                  97.0   0.9951  3.26       0.44   \n",
       "3                 47.0                 186.0   0.9956  3.19       0.40   \n",
       "4                 47.0                 186.0   0.9956  3.19       0.40   \n",
       "\n",
       "   alcohol  quality_cat  \n",
       "0      8.8            1  \n",
       "1      9.5            1  \n",
       "2     10.1            1  \n",
       "3      9.9            1  \n",
       "4      9.9            1  "
      ]
     },
     "execution_count": 23,
     "metadata": {},
     "output_type": "execute_result"
    }
   ],
   "source": [
    "df_wine_test = pd.read_csv('https://archive.ics.uci.edu/ml/machine-learning-databases/wine-quality/winequality-white.csv',\n",
    "                           sep=';')\n",
    "\n",
    "df_wine_test = df_wine_test.pipe(prepocess_wine)\n",
    "df_wine_test.head()"
   ]
  },
  {
   "cell_type": "code",
   "execution_count": 24,
   "metadata": {
    "collapsed": true
   },
   "outputs": [],
   "source": [
    "X_test, y_test = df_wine_test.iloc[:, :-1].values, df_wine_test.iloc[:, -1].values\n",
    "y_hat = model.predict(X_test)"
   ]
  },
  {
   "cell_type": "code",
   "execution_count": 25,
   "metadata": {},
   "outputs": [
    {
     "name": "stdout",
     "output_type": "stream",
     "text": [
      "Доля ошибок на контрольной выборке: 0.312577\n"
     ]
    }
   ],
   "source": [
    "error_rate = sum(y_hat != y_test)/float(y_test.shape[0])\n",
    "print 'Доля ошибок на контрольной выборке: %f' % error_rate"
   ]
  },
  {
   "cell_type": "markdown",
   "metadata": {},
   "source": [
    "Получилось неплохо и это лишь наивный алгоритм на одном признаке! Ну а выводы делайте сами =)"
   ]
  },
  {
   "cell_type": "markdown",
   "metadata": {},
   "source": [
    "# Имплементация K-means\n",
    "\n",
    "Пользуясь наработками выше, имплементируйте метод k-means.  \n",
    "При инициализации необходимо задавать количество кластеров, функцию расстояния между кластерами (для оригинального k-means - евклидово расстояние) и начальное состояние генератора случайных чисел.\n",
    "\n",
    "После обучения, среди атрибутов класса `Kmeans` должны появится\n",
    "* Метки кластеров для объектов\n",
    "* Координаты центройдов кластеров\n",
    "\n",
    "k-means - это алгоритм **кластеризации**, а не классификации, а посему метод `.predict()` в нем фактически не нужен, но он может возвращать метки ближайшего кластера для объектов."
   ]
  },
  {
   "cell_type": "markdown",
   "metadata": {},
   "source": [
    "###### Задание 1 (2 баллов)\n",
    "Имплементируйте метод k-means\n",
    "\n",
    "Теория для выполнения задания 2 и 3 остаётся на самостоятельное изучение. Теории немного и она совсем простая.\n",
    "\n",
    "###### Задание 2 (2 балла)\n",
    "Имплементируйте класс MiniBatchKMeans, который является классом наследником Kmeans.\n",
    "\n",
    "###### Задание 3 (2 балла)\n",
    "Превратите k-means в k-means++. Для этого нужно реализовать метод в классе Kmeans, который будет инициализировать более \"хорошие\" значения центроидов. Чтобы использовался метод k-means++, в параметр init необходимо передать строковое значение 'k-means' (по умолчанию 'random').\n",
    "\n",
    "###### Задание 4 (2 балла)\n",
    "В пункте \"Проверка корректности метода\" нужно нарисовать графики, которые показывают зависимость времени выполнения алгоритма от количества сэмплов. Графики должны быть  нарисованы для различных комбинаций реализаций алгоритма (k-means, k-means++, k-means с MiniBatchKMeans, k-means++ с MiniBatchKMeans). Для этого рекомендуется использовать инструмент %timeit. График достаточно построить на 5-10 точках.\n",
    "\n",
    "###### Задание 5 (2 балла)\n",
    "В пункте \"Применение K-means на реальных данных\" нужно сравнить различные реализации k-means (k-means, k-means++, k-means с MiniBatchKMeans, k-means++ с MiniBatchKMeans). После чего написать вывод, в котором должно быть объяснение того, почему один алгоритм оказался лучше остальных или почему не было выявлено лучшего алгоритма."
   ]
  },
  {
   "cell_type": "code",
   "execution_count": 1166,
   "metadata": {},
   "outputs": [],
   "source": [
    "from sklearn.base import ClusterMixin\n",
    "from sklearn.base import BaseEstimator\n",
    "import scipy.spatial.distance as cd\n",
    "\n",
    "class KMeans(BaseEstimator, ClusterMixin): \n",
    "    \n",
    "    def __init__(self, k=2, metric='euclidean', max_iter=1000, random_state=None, init='random', epsilom=0.1):\n",
    "        \"\"\"\n",
    "        Инициализация метода\n",
    "        :k - количество кластеров\n",
    "        :metric - функция расстояния между объектами\n",
    "        :max_iter - максиальное количество итераций\n",
    "        :random_state - seed для инициализации генератора случайных чисел\n",
    "        \"\"\"\n",
    "        self.init = init\n",
    "        self.k = k\n",
    "        self.random_state = random_state\n",
    "        self.metric = metric\n",
    "        self.max_iter = max_iter\n",
    "        self.epsilom = epsilom\n",
    "\n",
    "    def fit(self, X, y=None):\n",
    "        \"\"\"\n",
    "        Процедура обучения k-means\n",
    "        \"\"\"\n",
    "        \n",
    "        # Инициализация генератора случайных чисел\n",
    "        np.random.seed(self.random_state)\n",
    "        \n",
    "        # Массив с метками кластеров для каждого объекта из X\n",
    "        self.labels = np.empty(X.shape[0])\n",
    "        \n",
    "        # Массив с центройдами кластеров\n",
    "        #self.centroids = np.empty((self.k, X.shape[1]))\n",
    "        \n",
    "        ## Your Code Here\n",
    "        #print np.empty((self.k, X.shape[1]))\n",
    "        #print self.centroids\n",
    "        if self.init == 'random':\n",
    "            self.__centroidStartRandPos(X.shape[1], X)\n",
    "        elif self.init == '++':\n",
    "            self.__centroidStartPlusPos(X.shape[1], X)\n",
    "        else:\n",
    "            print 'wrong init'\n",
    "            return\n",
    "        \n",
    "        self.__fitRealesation(X, y)\n",
    "            \n",
    "        \n",
    "        return self\n",
    "    \n",
    "    def __fitRealesation(self, X, y=None):\n",
    "        #print 'old fit real'\n",
    "        iter = 1\n",
    "        while True:\n",
    "            old_centroids = np.copy(self.centroids)\n",
    "            if iter == self.max_iter:\n",
    "                break\n",
    "            dd = cd.cdist(X, self.centroids, self.metric)\n",
    "            #определяем класс объектов\n",
    "            self.labels = np.where(dd == dd.min(axis=1).reshape(dd.min(axis=1).size,1))[1]\n",
    "            for i in range(0, self.centroids.shape[0]):\n",
    "                if not((self.labels == i).any()):\n",
    "                    continue\n",
    "                #cмещаем центройды\n",
    "                self.centroids[i] = X[np.where(self.labels == i)].mean(axis=0)\n",
    "            iter = iter + 1\n",
    "            if((np.diag(cd.cdist(old_centroids, self.centroids, self.metric)) <= self.epsilom).all()):\n",
    "                break\n",
    "            \n",
    "        \n",
    "        return self\n",
    "    \n",
    "    def __centroidStartRandPos(self, dimension, X):\n",
    "        \n",
    "        #print 'old centr pos'\n",
    "        self.centroids = np.empty((self.k, dimension))\n",
    "        for c in self.centroids:\n",
    "            c = X[np.random.randint(X.shape[0])]\n",
    "        return self\n",
    "        \n",
    "    def predict(self, X, y=None):\n",
    "        \"\"\"\n",
    "        Процедура предсказания кластера\n",
    "        \n",
    "        Возвращает метку ближайшего кластера для каждого объекта\n",
    "        \"\"\"\n",
    "        dd = cd.cdist(np.array([X]), self.centroids, self.metric)\n",
    "        return np.where(dd == dd.min())[1][0]\n",
    "    def __centroidStartPlusPos(self, dimension, X):\n",
    "        self.centroids = np.empty((self.k, dimension))\n",
    "        self.centroids[0] = X[np.random.randint(X.shape[0])]\n",
    "        \n",
    "        for centrId in xrange(1, self.k):\n",
    "            arrDist = np.min(cd.cdist(X, self.centroids[:centrId], self.metric), axis=1) ** 2\n",
    "            rnd = np.random.uniform(0, 1) * np.sum(arrDist)\n",
    "            curSum = 0\n",
    "            gg = 0\n",
    "            for idx, d in enumerate(map(int, arrDist)):\n",
    "                curSum += d\n",
    "                gg = idx\n",
    "                if curSum >= rnd:\n",
    "                    break\n",
    "            #print gg\n",
    "            if (self.centroids[centrId - 1] == X[idx]).all():\n",
    "                idx = idx - 1 if idx > 0 else idx + 1\n",
    "            self.centroids[centrId] = X[idx]\n",
    "        #print self.centroids\n",
    "        for i in xrange(0, self.k):\n",
    "            for j in xrange(i + 1, self.k) :\n",
    "                if j >= self.k:\n",
    "                    break\n",
    "                if (self.centroids[i] == self.centroids[j]).all():\n",
    "                    print 'не правда бывают одинаковые'\n",
    "                    self.__centroidStartPlusPos(dimension, X)\n",
    "        return self"
   ]
  },
  {
   "cell_type": "code",
   "execution_count": 1093,
   "metadata": {},
   "outputs": [
    {
     "name": "stdout",
     "output_type": "stream",
     "text": [
      "[[2, 4]]\n"
     ]
    },
    {
     "data": {
      "text/plain": [
       "array([ 1.41421356,  2.        ,  1.41421356])"
      ]
     },
     "execution_count": 1093,
     "metadata": {},
     "output_type": "execute_result"
    }
   ],
   "source": [
    "X1 = np.array([[1,2],[2,1],[3,2]])\n",
    "c = [[2,4],[2,3]]\n",
    "#c[0] = X1[np.random.randint(X1.shape[0])]\n",
    "print c[:1]\n",
    "np.min(cd.cdist(X1, c, 'euclidean'), axis=1)"
   ]
  },
  {
   "cell_type": "code",
   "execution_count": 1174,
   "metadata": {},
   "outputs": [],
   "source": [
    "class MiniBatchKMeans(KMeans):\n",
    "    \n",
    "    def fit(self, X, y=None):\n",
    "        \"\"\"\n",
    "        Процедура обучения k-means\n",
    "        \"\"\"\n",
    "        \n",
    "        # Инициализация генератора случайных чисел\n",
    "        np.random.seed(self.random_state)\n",
    "        \n",
    "        # Массив с метками кластеров для каждого объекта из X\n",
    "        self.labels = np.empty(X.shape[0])\n",
    "        \n",
    "        # Массив с центройдами кластеров\n",
    "        #self.centroids = np.empty((self.k, X.shape[1]))\n",
    "        \n",
    "        ## Your Code Here\n",
    "        if self.init == 'random':\n",
    "            self.__centroidStartRandPos(X.shape[1], X)\n",
    "        elif self.init == '++':\n",
    "            self.__centroidStartPlusPos(X.shape[1], X)\n",
    "        else:\n",
    "            print 'wrong init'\n",
    "            return\n",
    "        #print np.empty((self.k, X.shape[1]))\n",
    "        #print self.centroids\n",
    "        \n",
    "        \n",
    "        self.__fitRealosation(X, y)\n",
    "            \n",
    "        \n",
    "        return self\n",
    "    \n",
    "    def __fitRealosation(self, X, y=None):\n",
    "        #print 'new fitreal'\n",
    "        iter = 1\n",
    "        while True:\n",
    "            old_centroids = np.copy(self.centroids)\n",
    "            #берем примерно треть из всего набора\n",
    "            wher = np.random.rand(X.shape[0]) < 0.3\n",
    "            M = X[wher]\n",
    "            if iter == self.max_iter:\n",
    "                break\n",
    "            dd = cd.cdist(M, self.centroids, self.metric)\n",
    "            #определяем класс объектов\n",
    "            self.labels[wher] = np.where(dd == dd.min(axis=1).reshape(dd.min(axis=1).size,1))[1]\n",
    "            for i in range(0, self.centroids.shape[0]):\n",
    "                if not((self.labels == i).any()):\n",
    "                    continue\n",
    "                #смещаем центройды\n",
    "                self.centroids[i] = X[np.where(self.labels == i)].mean(axis=0)\n",
    "            iter = iter + 1\n",
    "            if((np.diag(cd.cdist(old_centroids, self.centroids, self.metric)) <= self.epsilom).all()):\n",
    "                break\n",
    "                \n",
    "        dd = cd.cdist(X, self.centroids, self.metric)\n",
    "        self.labels = np.where(dd == dd.min(axis=1).reshape(dd.min(axis=1).size,1))[1]\n",
    "            \n",
    "        \n",
    "        return self\n",
    "    def __centroidStartRandPos(self, dimension, X):\n",
    "        \n",
    "        #print 'new centr pos'\n",
    "        self.centroids = np.empty((self.k, dimension))\n",
    "        for c in self.centroids:\n",
    "            c = X[np.random.randint(X.shape[0])]\n",
    "        #print self.centroids\n",
    "        \n",
    "        return self\n",
    "    def __centroidStartPlusPos(self, dimension, X):\n",
    "        \n",
    "        self.centroids = np.empty((self.k, dimension))\n",
    "        self.centroids[0] = X[np.random.randint(X.shape[0])]\n",
    "        \n",
    "        for centrId in xrange(1, self.k):\n",
    "            arrDist = np.min(cd.cdist(X, self.centroids[:centrId], self.metric), axis=1) ** 2\n",
    "            rnd = np.random.uniform(0, 1) * np.sum(arrDist)\n",
    "            curSum = 0\n",
    "            gg= 0\n",
    "            for idx, d in enumerate(map(int, arrDist)):\n",
    "                curSum += d\n",
    "                gg = idx\n",
    "                if curSum >= rnd:\n",
    "                    break\n",
    "                \n",
    "            self.centroids[centrId] = X[idx]\n",
    "        \n",
    "        for i in xrange(0, self.k):\n",
    "            for j in xrange(i + 1, self.k) :\n",
    "                if j >= self.k:\n",
    "                    break\n",
    "                if (self.centroids[i] == self.centroids[j]).all():\n",
    "                    print 'не правда бывают одинаковые'\n",
    "                    self.__centroidStartPlusPos(dimension, X)\n",
    "            \n",
    "        #print self.centroids\n",
    "        #dd = cd.cdist(X, self.centroids, self.metric)\n",
    "        \n",
    "        return self"
   ]
  },
  {
   "cell_type": "markdown",
   "metadata": {},
   "source": [
    "### Проверка корректности метода\n",
    "\n",
    "Перед тем как применять алгоритм на реальных данных, нужно испытать его на простых \"игрушечных\" данных.\n",
    "\n",
    "Если алгоритм реализован правильно, то метод должен идеально разбивать на 3 кластера данные ниже. Проверьте это.\n",
    "\n",
    "ВНИМАНИЕ! Проверка должна быть осуществлена на всех реализациях, иначе реализация не будет зачтена!"
   ]
  },
  {
   "cell_type": "code",
   "execution_count": 3,
   "metadata": {
    "collapsed": true
   },
   "outputs": [],
   "source": [
    "from sklearn.datasets import make_blobs\n",
    "#X =  np.array([1,2,3,4])\n",
    "#X[np.random.rand(4) > 0.5]"
   ]
  },
  {
   "cell_type": "code",
   "execution_count": 1194,
   "metadata": {
    "collapsed": true
   },
   "outputs": [],
   "source": [
    "X, y = make_blobs(n_samples=100, n_features=2, centers=3, cluster_std=1, \n",
    "           center_box=(-10.0, 10.0), shuffle=False, random_state=1234)"
   ]
  },
  {
   "cell_type": "code",
   "execution_count": 7,
   "metadata": {},
   "outputs": [
    {
     "data": {
      "text/plain": [
       "<matplotlib.collections.PathCollection at 0xca78f60>"
      ]
     },
     "execution_count": 7,
     "metadata": {},
     "output_type": "execute_result"
    },
    {
     "data": {
      "image/png": "[encoded data removed]",
      "text/plain": [
       "<matplotlib.figure.Figure at 0xc94f160>"
      ]
     },
     "metadata": {},
     "output_type": "display_data"
    }
   ],
   "source": [
    "plt.scatter(X[:,0],X[:,1],c=y)\n",
    "#X[0:10]"
   ]
  },
  {
   "cell_type": "markdown",
   "metadata": {},
   "source": [
    "Проверьте Вашу имплементацию на простых данных (без этого пункта задание не считается выполненным).   \n",
    "КОММЕНТАРИИ НЕ СТИРАТЬ!"
   ]
  },
  {
   "cell_type": "code",
   "execution_count": 1195,
   "metadata": {},
   "outputs": [
    {
     "name": "stdout",
     "output_type": "stream",
     "text": [
      "[0 0 0 0 0 0 0 0 0 0 0 0 0 0 0 0 0 0 0 0 0 0 0 0 0 0 0 0 0 0 0 0 0 0 1 1 1\n",
      " 1 1 1 1 1 1 1 1 1 1 1 1 1 1 1 1 1 1 1 1 1 1 1 1 1 1 1 1 1 1 2 2 2 2 2 2 2\n",
      " 2 2 2 2 2 2 2 2 2 2 2 2 2 2 2 2 2 2 2 2 2 2 2 2 2 2]\n"
     ]
    },
    {
     "data": {
      "text/plain": [
       "<matplotlib.collections.PathCollection at 0x99753160>"
      ]
     },
     "execution_count": 1195,
     "metadata": {},
     "output_type": "execute_result"
    },
    {
     "data": {
      "image/png": "[encoded data removed]",
      "text/plain": [
       "<matplotlib.figure.Figure at 0x97e95cc0>"
      ]
     },
     "metadata": {},
     "output_type": "display_data"
    }
   ],
   "source": [
    "## Работоспособность KMeans\n",
    "modelKmean = KMeans(k=3)\n",
    "modelKmean.fit(X)\n",
    "print modelKmean.labels\n",
    "plt.scatter(X[:,0],X[:,1],c=modelKmean.labels)\n",
    "plt.scatter(modelKmean.centroids[:,0], modelKmean.centroids[:,1],s=150,c='red',marker='+')"
   ]
  },
  {
   "cell_type": "code",
   "execution_count": 1210,
   "metadata": {},
   "outputs": [
    {
     "data": {
      "text/plain": [
       "<matplotlib.collections.PathCollection at 0x9d159d30>"
      ]
     },
     "execution_count": 1210,
     "metadata": {},
     "output_type": "execute_result"
    },
    {
     "data": {
      "image/png": "[encoded data removed]",
      "text/plain": [
       "<matplotlib.figure.Figure at 0x9bea7080>"
      ]
     },
     "metadata": {},
     "output_type": "display_data"
    }
   ],
   "source": [
    "## Работоспособность KMeans++\n",
    "modelKmeanPlus = KMeans(k=3, init='++')\n",
    "modelKmeanPlus.fit(X)\n",
    "#print modelKmeanPlus.labels\n",
    "plt.scatter(X[:,0],X[:,1],c=modelKmeanPlus.labels)\n",
    "plt.scatter(modelKmeanPlus.centroids[:,0], modelKmeanPlus.centroids[:,1],s=150,c='red',marker='+')"
   ]
  },
  {
   "cell_type": "code",
   "execution_count": 582,
   "metadata": {},
   "outputs": [
    {
     "name": "stdout",
     "output_type": "stream",
     "text": [
      "new centr pos\n",
      "[[-1.26053728  5.74033648]\n",
      " [ 4.8681601  -4.33338725]\n",
      " [-5.72717597  2.15643597]]\n",
      "new fitreal\n",
      "[2 2 2 2 2 2 2 2 2 2 2 2 2 2 2 2 2 2 2 2 2 2 2 2 2 2 2 2 2 2 2 2 2 2 0 0 0\n",
      " 0 0 0 0 0 0 0 0 0 0 0 0 0 0 0 0 0 0 0 0 0 0 0 0 0 0 0 0 0 0 1 1 1 1 1 1 1\n",
      " 1 1 1 1 1 1 1 1 1 1 1 1 1 1 1 1 1 1 1 1 1 1 1 1 1 1]\n"
     ]
    },
    {
     "data": {
      "text/plain": [
       "<matplotlib.collections.PathCollection at 0x582f6668>"
      ]
     },
     "execution_count": 582,
     "metadata": {},
     "output_type": "execute_result"
    },
    {
     "data": {
      "image/png": "[encoded data removed]",
      "text/plain": [
       "<matplotlib.figure.Figure at 0x5675bf98>"
      ]
     },
     "metadata": {},
     "output_type": "display_data"
    }
   ],
   "source": [
    "## Работоспособность KMeans с MiniBatchKMeans\n",
    "modelKmeanMB = MiniBatchKMeans(k=3)\n",
    "modelKmeanMB.fit(X)\n",
    "print  modelKmeanMB.labels\n",
    "plt.scatter(X[:,0],X[:,1],c=modelKmeanMB.labels)\n",
    "plt.scatter(modelKmeanMB.centroids[:,0], modelKmeanMB.centroids[:,1],s=150,c='red',marker='+')"
   ]
  },
  {
   "cell_type": "code",
   "execution_count": 942,
   "metadata": {},
   "outputs": [
    {
     "name": "stdout",
     "output_type": "stream",
     "text": [
      "[[-5.86164214  2.23367666]\n",
      " [ 6.09565909 -3.75155303]\n",
      " [-0.74185346  5.99246736]]\n",
      "new fitreal\n"
     ]
    },
    {
     "data": {
      "text/plain": [
       "<matplotlib.collections.PathCollection at 0x97c45eb8>"
      ]
     },
     "execution_count": 942,
     "metadata": {},
     "output_type": "execute_result"
    },
    {
     "data": {
      "image/png": "[encoded data removed]",
      "text/plain": [
       "<matplotlib.figure.Figure at 0x96f22f60>"
      ]
     },
     "metadata": {},
     "output_type": "display_data"
    }
   ],
   "source": [
    "## Работоспособность KMeans++ с MiniBatchKMeans\n",
    "modelKmeanPlusMB = MiniBatchKMeans(k=3, init='++')\n",
    "modelKmeanPlusMB.fit(X)\n",
    "#print modelKmeanPlus.labels\n",
    "plt.scatter(X[:,0],X[:,1],c=modelKmeanPlusMB.labels)\n",
    "plt.scatter(modelKmeanPlusMB.centroids[:,0], modelKmeanPlusMB.centroids[:,1],s=150,c='red',marker='+')"
   ]
  },
  {
   "cell_type": "code",
   "execution_count": 945,
   "metadata": {
    "collapsed": true
   },
   "outputs": [],
   "source": [
    "import time\n",
    "from collections import defaultdict"
   ]
  },
  {
   "cell_type": "code",
   "execution_count": 1175,
   "metadata": {},
   "outputs": [],
   "source": [
    "sizes = [50, 500, 1500, 5000, 10000, 50000]\n",
    "results = defaultdict(list)\n",
    "for sz in sizes:\n",
    "    X, y = make_blobs(n_samples=sz, n_features=2, centers=3, cluster_std=1, \n",
    "           center_box=(-10.0, 10.0), shuffle=False, random_state=1234)\n",
    "    X = (X - X.mean()) / X.std()\n",
    "    kmeans = KMeans(k=3)\n",
    "    kmeansPlus2 = KMeans(k=3, init='++')\n",
    "    miniBatchKmeans = MiniBatchKMeans(k=3)\n",
    "    miniBatchKmeansPlus2 = MiniBatchKMeans(k=3, init='++')\n",
    "    s1 = time.time()\n",
    "    kmeans.fit(X)\n",
    "    results['kmeans'] = np.append(results['kmeans'], [time.time() - s1])\n",
    "    s1 = time.time()\n",
    "    kmeansPlus2.fit(X)\n",
    "    results['kmeans++'] = np.append(results['kmeans++'], [time.time() - s1])\n",
    "    s1 = time.time()\n",
    "    miniBatchKmeans.fit(X)\n",
    "    results['minibatch'] = np.append(results['minibatch'], [time.time() - s1])\n",
    "    s1 = time.time()\n",
    "    miniBatchKmeansPlus2.fit(X)\n",
    "    results['minibatch + kmeans++'] = np.append(results['minibatch + kmeans++'], [time.time() - s1])"
   ]
  },
  {
   "cell_type": "code",
   "execution_count": 1176,
   "metadata": {},
   "outputs": [
    {
     "data": {
      "image/png": "[encoded data removed]",
      "text/plain": [
       "<matplotlib.figure.Figure at 0x98c16198>"
      ]
     },
     "metadata": {},
     "output_type": "display_data"
    }
   ],
   "source": [
    "plt.plot(sizes, results['kmeans'] * 1000, label='KMeans', c='red')\n",
    "plt.plot(sizes, results['kmeans++'] * 1000, label='KMeans++', c='green')\n",
    "plt.plot(sizes, results['minibatch'] * 1000, label='MiniBatchKMeans', c='blue')\n",
    "plt.plot(sizes, results['minibatch + kmeans++'] * 1000, label='MiniBatchKMeans++', c='brown')\n",
    "plt.ylabel(\"Time (ms)\")\n",
    "plt.legend()\n",
    "plt.show()"
   ]
  },
  {
   "cell_type": "code",
   "execution_count": 1168,
   "metadata": {
    "collapsed": true
   },
   "outputs": [],
   "source": [
    "X, y = make_blobs(n_samples=100, n_features=2, centers=3, cluster_std=1, \n",
    "       center_box=(-10.0, 10.0), shuffle=False, random_state=1234) \n",
    "X = (X - X.mean()) / X.std()"
   ]
  },
  {
   "cell_type": "code",
   "execution_count": 1177,
   "metadata": {},
   "outputs": [
    {
     "name": "stdout",
     "output_type": "stream",
     "text": [
      "100 loops, best of 3: 5.99 ms per loop\n"
     ]
    }
   ],
   "source": [
    "## Время выполнения алгоритма KMeans\n",
    "%timeit kmeans.fit(X)"
   ]
  },
  {
   "cell_type": "code",
   "execution_count": 1178,
   "metadata": {},
   "outputs": [
    {
     "name": "stdout",
     "output_type": "stream",
     "text": [
      "10 loops, best of 3: 37 ms per loop\n"
     ]
    }
   ],
   "source": [
    "## Время выполнения алгоритма KMeans++\n",
    "%timeit kmeansPlus2.fit(X)"
   ]
  },
  {
   "cell_type": "code",
   "execution_count": 1179,
   "metadata": {},
   "outputs": [
    {
     "name": "stdout",
     "output_type": "stream",
     "text": [
      "100 loops, best of 3: 8.79 ms per loop\n"
     ]
    }
   ],
   "source": [
    "## Время выполнения алгоритма KMeans с MiniBatchKMeans\n",
    "%timeit miniBatchKmeans.fit(X)"
   ]
  },
  {
   "cell_type": "code",
   "execution_count": 1180,
   "metadata": {},
   "outputs": [
    {
     "name": "stdout",
     "output_type": "stream",
     "text": [
      "не правда бывают одинаковые\n",
      "10 loops, best of 3: 48.2 ms per loop\n"
     ]
    }
   ],
   "source": [
    "## Время выполнения алгоритма  KMeans++ с MiniBatchKMeans\n",
    "%timeit miniBatchKmeansPlus2.fit(X)"
   ]
  },
  {
   "cell_type": "markdown",
   "metadata": {},
   "source": [
    "# Применение K-means на реальных данных"
   ]
  },
  {
   "cell_type": "markdown",
   "metadata": {},
   "source": [
    "Загрузите [данные](https://github.com/brenden17/sklearnlab/blob/master/facebook/snsdata.csv) в которых содержится описание интересов профилей учеников старшей школы США.  (без этого пункта задание не считается выполненным).   \n",
    "ВНИМАНИЕ! Проверка должна быть осуществлена на всех реализациях, иначе реализация не будет зачтена!"
   ]
  },
  {
   "cell_type": "code",
   "execution_count": 1182,
   "metadata": {},
   "outputs": [
    {
     "data": {
      "text/html": [
       "<div>\n",
       "<style>\n",
       "    .dataframe thead tr:only-child th {\n",
       "        text-align: right;\n",
       "    }\n",
       "\n",
       "    .dataframe thead th {\n",
       "        text-align: left;\n",
       "    }\n",
       "\n",
       "    .dataframe tbody tr th {\n",
       "        vertical-align: top;\n",
       "    }\n",
       "</style>\n",
       "<table border=\"1\" class=\"dataframe\">\n",
       "  <thead>\n",
       "    <tr style=\"text-align: right;\">\n",
       "      <th></th>\n",
       "      <th>gradyear</th>\n",
       "      <th>gender</th>\n",
       "      <th>age</th>\n",
       "      <th>friends</th>\n",
       "      <th>basketball</th>\n",
       "      <th>football</th>\n",
       "      <th>soccer</th>\n",
       "      <th>softball</th>\n",
       "      <th>volleyball</th>\n",
       "      <th>swimming</th>\n",
       "      <th>...</th>\n",
       "      <th>blonde</th>\n",
       "      <th>mall</th>\n",
       "      <th>shopping</th>\n",
       "      <th>clothes</th>\n",
       "      <th>hollister</th>\n",
       "      <th>abercrombie</th>\n",
       "      <th>die</th>\n",
       "      <th>death</th>\n",
       "      <th>drunk</th>\n",
       "      <th>drugs</th>\n",
       "    </tr>\n",
       "  </thead>\n",
       "  <tbody>\n",
       "    <tr>\n",
       "      <th>0</th>\n",
       "      <td>2006</td>\n",
       "      <td>M</td>\n",
       "      <td>18.982</td>\n",
       "      <td>7</td>\n",
       "      <td>0</td>\n",
       "      <td>0</td>\n",
       "      <td>0</td>\n",
       "      <td>0</td>\n",
       "      <td>0</td>\n",
       "      <td>0</td>\n",
       "      <td>...</td>\n",
       "      <td>0</td>\n",
       "      <td>0</td>\n",
       "      <td>0</td>\n",
       "      <td>0</td>\n",
       "      <td>0</td>\n",
       "      <td>0</td>\n",
       "      <td>0</td>\n",
       "      <td>0</td>\n",
       "      <td>0</td>\n",
       "      <td>0</td>\n",
       "    </tr>\n",
       "    <tr>\n",
       "      <th>1</th>\n",
       "      <td>2006</td>\n",
       "      <td>F</td>\n",
       "      <td>18.801</td>\n",
       "      <td>0</td>\n",
       "      <td>0</td>\n",
       "      <td>1</td>\n",
       "      <td>0</td>\n",
       "      <td>0</td>\n",
       "      <td>0</td>\n",
       "      <td>0</td>\n",
       "      <td>...</td>\n",
       "      <td>0</td>\n",
       "      <td>1</td>\n",
       "      <td>0</td>\n",
       "      <td>0</td>\n",
       "      <td>0</td>\n",
       "      <td>0</td>\n",
       "      <td>0</td>\n",
       "      <td>0</td>\n",
       "      <td>0</td>\n",
       "      <td>0</td>\n",
       "    </tr>\n",
       "    <tr>\n",
       "      <th>2</th>\n",
       "      <td>2006</td>\n",
       "      <td>M</td>\n",
       "      <td>18.335</td>\n",
       "      <td>69</td>\n",
       "      <td>0</td>\n",
       "      <td>1</td>\n",
       "      <td>0</td>\n",
       "      <td>0</td>\n",
       "      <td>0</td>\n",
       "      <td>0</td>\n",
       "      <td>...</td>\n",
       "      <td>0</td>\n",
       "      <td>0</td>\n",
       "      <td>0</td>\n",
       "      <td>0</td>\n",
       "      <td>0</td>\n",
       "      <td>0</td>\n",
       "      <td>0</td>\n",
       "      <td>1</td>\n",
       "      <td>0</td>\n",
       "      <td>0</td>\n",
       "    </tr>\n",
       "    <tr>\n",
       "      <th>3</th>\n",
       "      <td>2006</td>\n",
       "      <td>F</td>\n",
       "      <td>18.875</td>\n",
       "      <td>0</td>\n",
       "      <td>0</td>\n",
       "      <td>0</td>\n",
       "      <td>0</td>\n",
       "      <td>0</td>\n",
       "      <td>0</td>\n",
       "      <td>0</td>\n",
       "      <td>...</td>\n",
       "      <td>0</td>\n",
       "      <td>0</td>\n",
       "      <td>0</td>\n",
       "      <td>0</td>\n",
       "      <td>0</td>\n",
       "      <td>0</td>\n",
       "      <td>0</td>\n",
       "      <td>0</td>\n",
       "      <td>0</td>\n",
       "      <td>0</td>\n",
       "    </tr>\n",
       "    <tr>\n",
       "      <th>4</th>\n",
       "      <td>2006</td>\n",
       "      <td>NaN</td>\n",
       "      <td>18.995</td>\n",
       "      <td>10</td>\n",
       "      <td>0</td>\n",
       "      <td>0</td>\n",
       "      <td>0</td>\n",
       "      <td>0</td>\n",
       "      <td>0</td>\n",
       "      <td>0</td>\n",
       "      <td>...</td>\n",
       "      <td>0</td>\n",
       "      <td>0</td>\n",
       "      <td>2</td>\n",
       "      <td>0</td>\n",
       "      <td>0</td>\n",
       "      <td>0</td>\n",
       "      <td>0</td>\n",
       "      <td>0</td>\n",
       "      <td>1</td>\n",
       "      <td>1</td>\n",
       "    </tr>\n",
       "  </tbody>\n",
       "</table>\n",
       "<p>5 rows × 40 columns</p>\n",
       "</div>"
      ],
      "text/plain": [
       "   gradyear gender     age  friends  basketball  football  soccer  softball  \\\n",
       "0      2006      M  18.982        7           0         0       0         0   \n",
       "1      2006      F  18.801        0           0         1       0         0   \n",
       "2      2006      M  18.335       69           0         1       0         0   \n",
       "3      2006      F  18.875        0           0         0       0         0   \n",
       "4      2006    NaN  18.995       10           0         0       0         0   \n",
       "\n",
       "   volleyball  swimming  ...    blonde  mall  shopping  clothes  hollister  \\\n",
       "0           0         0  ...         0     0         0        0          0   \n",
       "1           0         0  ...         0     1         0        0          0   \n",
       "2           0         0  ...         0     0         0        0          0   \n",
       "3           0         0  ...         0     0         0        0          0   \n",
       "4           0         0  ...         0     0         2        0          0   \n",
       "\n",
       "   abercrombie  die  death  drunk  drugs  \n",
       "0            0    0      0      0      0  \n",
       "1            0    0      0      0      0  \n",
       "2            0    0      1      0      0  \n",
       "3            0    0      0      0      0  \n",
       "4            0    0      0      1      1  \n",
       "\n",
       "[5 rows x 40 columns]"
      ]
     },
     "execution_count": 1182,
     "metadata": {},
     "output_type": "execute_result"
    }
   ],
   "source": [
    "df_sns = pd.read_csv('snsdata.csv', sep=',')\n",
    "df_sns.head()"
   ]
  },
  {
   "cell_type": "markdown",
   "metadata": {},
   "source": [
    "Данные устроены так: \n",
    "* Год выпуска\n",
    "* Пол\n",
    "* Возраст\n",
    "* Количество друзей\n",
    "* 36 ключевых слов, которые встречаются в профилe facebook (интересы, сообщества, встречи)"
   ]
  },
  {
   "cell_type": "markdown",
   "metadata": {},
   "source": [
    "* Удалите все признаки кроме 36 ключевых слов.\n",
    "* Нормализуйте данные - из каждого столбца вычтите его среднее значение и поделите на стандартное отклонение.\n",
    "* Используйте метод k-means чтобы выделить 9 кластеров\n",
    "* Попробуйте проинтерпретировать каждый кластер проанализировав полученные центройды (Некоторые кластеры могут быть очень большие и очень маленькие - плохо интерпретируются)   \n",
    "КОММЕНТАРИИ НЕ СТИРАТЬ!"
   ]
  },
  {
   "cell_type": "code",
   "execution_count": 1183,
   "metadata": {},
   "outputs": [],
   "source": [
    "df_sns = df_sns.loc[:, 'basketball':]\n",
    "df_sns = (df_sns - df_sns.mean(axis=0)) / df_sns.std(axis=0)"
   ]
  },
  {
   "cell_type": "code",
   "execution_count": 1186,
   "metadata": {},
   "outputs": [
    {
     "name": "stdout",
     "output_type": "stream",
     "text": [
      "drunk    -0.220399\n",
      "sex      -0.186381\n",
      "blonde   -0.050936\n",
      "Name: 0, dtype: float64\n",
      "**********\n",
      "mall        1.067374\n",
      "cute        0.843842\n",
      "shopping   -0.487306\n",
      "Name: 1, dtype: float64\n",
      "**********\n",
      "hair     -0.384866\n",
      "drugs    -0.174905\n",
      "kissed   -0.202616\n",
      "Name: 2, dtype: float64\n",
      "**********\n",
      "shopping   -0.487306\n",
      "sexy       -0.267318\n",
      "soccer     -0.242870\n",
      "Name: 3, dtype: float64\n",
      "**********\n",
      "bible    -0.104246\n",
      "tennis   -0.168936\n",
      "blonde   -0.050936\n",
      "Name: 4, dtype: float64\n",
      "**********\n",
      "volleyball   -0.223666\n",
      "soccer       -0.242870\n",
      "cute         -0.402356\n",
      "Name: 5, dtype: float64\n",
      "**********\n",
      "music      -0.589151\n",
      "band        0.626036\n",
      "marching    3.341801\n",
      "Name: 6, dtype: float64\n",
      "**********\n",
      "jesus   -0.192651\n",
      "sexy     1.625870\n",
      "cute    -0.402356\n",
      "Name: 7, dtype: float64\n",
      "**********\n",
      "drunk   -0.220399\n",
      "hair    -0.384866\n",
      "cute    -0.402356\n",
      "Name: 8, dtype: float64\n",
      "**********\n"
     ]
    }
   ],
   "source": [
    "## KMeans\n",
    "model = KMeans(k=9)\n",
    "model.fit(df_sns.values)\n",
    "p = model.centroids.argsort(axis=1)[:, -3:]\n",
    "for i in xrange(9):\n",
    "    print df_sns.iloc[i, p[i, :]]\n",
    "    print '*' * 10"
   ]
  },
  {
   "cell_type": "code",
   "execution_count": 1188,
   "metadata": {},
   "outputs": [
    {
     "name": "stdout",
     "output_type": "stream",
     "text": [
      "marching   -0.141419\n",
      "tennis     -0.168936\n",
      "blonde     -0.050936\n",
      "Name: 0, dtype: float64\n",
      "**********\n",
      "god      0.398072\n",
      "jesus   -0.192651\n",
      "bible   -0.104246\n",
      "Name: 1, dtype: float64\n",
      "**********\n",
      "death    2.027874\n",
      "sex     -0.186381\n",
      "drunk   -0.220399\n",
      "Name: 2, dtype: float64\n",
      "**********\n",
      "shopping      -0.487306\n",
      "abercrombie   -0.183029\n",
      "hollister     -0.201473\n",
      "Name: 3, dtype: float64\n",
      "**********\n",
      "basketball   -0.332212\n",
      "softball     -0.217924\n",
      "volleyball   -0.223666\n",
      "Name: 4, dtype: float64\n",
      "**********\n",
      "mall       -0.369909\n",
      "cute       -0.402356\n",
      "shopping    0.893164\n",
      "Name: 5, dtype: float64\n",
      "**********\n",
      "hair     -0.384866\n",
      "drugs    -0.174905\n",
      "kissed   -0.202616\n",
      "Name: 6, dtype: float64\n",
      "**********\n",
      "basketball   -0.332212\n",
      "football     -0.357691\n",
      "baseball     -0.201127\n",
      "Name: 7, dtype: float64\n",
      "**********\n",
      "drunk    -0.220399\n",
      "sex      -0.186381\n",
      "blonde   -0.050936\n",
      "Name: 8, dtype: float64\n",
      "**********\n"
     ]
    }
   ],
   "source": [
    "## KMeans++\n",
    "model = KMeans(k=9, init='++')\n",
    "model.fit(df_sns.values)\n",
    "p = model.centroids.argsort(axis=1)[:, -3:]\n",
    "for i in xrange(9):\n",
    "    print df_sns.iloc[i, p[i, :]]\n",
    "    print '*' * 10"
   ]
  },
  {
   "cell_type": "code",
   "execution_count": 1190,
   "metadata": {},
   "outputs": [
    {
     "name": "stdout",
     "output_type": "stream",
     "text": [
      "marching   -0.141419\n",
      "blonde     -0.050936\n",
      "tennis     -0.168936\n",
      "Name: 0, dtype: float64\n",
      "**********\n",
      "god      0.398072\n",
      "jesus   -0.192651\n",
      "bible   -0.104246\n",
      "Name: 1, dtype: float64\n",
      "**********\n",
      "sexy    -0.267318\n",
      "sex     -0.186381\n",
      "drunk   -0.220399\n",
      "Name: 2, dtype: float64\n",
      "**********\n",
      "shopping      -0.487306\n",
      "abercrombie   -0.183029\n",
      "hollister     -0.201473\n",
      "Name: 3, dtype: float64\n",
      "**********\n",
      "basketball   -0.332212\n",
      "softball     -0.217924\n",
      "volleyball   -0.223666\n",
      "Name: 4, dtype: float64\n",
      "**********\n",
      "dance      -0.365711\n",
      "cute       -0.402356\n",
      "shopping    0.893164\n",
      "Name: 5, dtype: float64\n",
      "**********\n",
      "hair     -0.384866\n",
      "drugs    -0.174905\n",
      "kissed   -0.202616\n",
      "Name: 6, dtype: float64\n",
      "**********\n",
      "basketball   -0.332212\n",
      "football     -0.357691\n",
      "baseball     -0.201127\n",
      "Name: 7, dtype: float64\n",
      "**********\n",
      "drunk    -0.220399\n",
      "sex      -0.186381\n",
      "blonde   -0.050936\n",
      "Name: 8, dtype: float64\n",
      "**********\n"
     ]
    }
   ],
   "source": [
    "## KMeans с MiniBatchKMeans\n",
    "model = MiniBatchKMeans(k=9)\n",
    "model.fit(df_sns.values)\n",
    "p = model.centroids.argsort(axis=1)[:, -3:]\n",
    "for i in xrange(9):\n",
    "    print df_sns.iloc[i, p[i, :]]\n",
    "    print '*' * 10"
   ]
  },
  {
   "cell_type": "code",
   "execution_count": 1192,
   "metadata": {},
   "outputs": [
    {
     "name": "stdout",
     "output_type": "stream",
     "text": [
      "bible    -0.104246\n",
      "tennis   -0.168936\n",
      "blonde   -0.050936\n",
      "Name: 0, dtype: float64\n",
      "**********\n",
      "god      0.398072\n",
      "jesus   -0.192651\n",
      "bible   -0.104246\n",
      "Name: 1, dtype: float64\n",
      "**********\n",
      "sports     -0.297118\n",
      "football    1.060031\n",
      "soccer     -0.242870\n",
      "Name: 2, dtype: float64\n",
      "**********\n",
      "shopping      -0.487306\n",
      "abercrombie   -0.183029\n",
      "hollister     -0.201473\n",
      "Name: 3, dtype: float64\n",
      "**********\n",
      "basketball   -0.332212\n",
      "softball     -0.217924\n",
      "volleyball   -0.223666\n",
      "Name: 4, dtype: float64\n",
      "**********\n",
      "mall       -0.369909\n",
      "dress       1.978107\n",
      "shopping    0.893164\n",
      "Name: 5, dtype: float64\n",
      "**********\n",
      "hair     -0.384866\n",
      "drugs    -0.174905\n",
      "kissed   -0.202616\n",
      "Name: 6, dtype: float64\n",
      "**********\n",
      "basketball   -0.332212\n",
      "football     -0.357691\n",
      "baseball     -0.201127\n",
      "Name: 7, dtype: float64\n",
      "**********\n",
      "cute    -0.402356\n",
      "music   -0.589151\n",
      "band    -0.267790\n",
      "Name: 8, dtype: float64\n",
      "**********\n"
     ]
    }
   ],
   "source": [
    "## KMeans++ с MiniBatchKMeans\n",
    "model = MiniBatchKMeans(k=9, init='++')\n",
    "model.fit(df_sns.values)\n",
    "p = model.centroids.argsort(axis=1)[:, -3:]\n",
    "for i in xrange(9):\n",
    "    print df_sns.iloc[i, p[i, :]]\n",
    "    print '*' * 10"
   ]
  },
  {
   "cell_type": "markdown",
   "metadata": {
    "collapsed": true
   },
   "source": [
    "## Вывод\n",
    "*Эксперементальные данные противоречать всей теории и законам логики. MiniBatch почемуто оказался самым медленным.\n",
    "*Видимо дело в реализации. Исходя из эксперементальных данных стандартный K-mean оказался самым удачным.\n",
    "*Будучи почти самым быстрым он показывает наилучшую стабильность. Метод которым предлагают устанавливать начальные\n",
    "*значения центройдов должен был не допустить выбор одинаковых центройдов. 3 часа убил на поиск ошибки но так ничего\n",
    "*лучше не предумал чем добавить дополнительную валидацию на повторяющиеся центройды. Одним словом все получилось как\n",
    "*то странно. **p.s.** я старался пользоваться по максимум функциями numpy ради скорости"
   ]
  }
 ],
 "metadata": {
  "anaconda-cloud": {},
  "kernelspec": {
   "display_name": "Python 2",
   "language": "python",
   "name": "python2"
  },
  "language_info": {
   "codemirror_mode": {
    "name": "ipython",
    "version": 2
   },
   "file_extension": ".py",
   "mimetype": "text/x-python",
   "name": "python",
   "nbconvert_exporter": "python",
   "pygments_lexer": "ipython2",
   "version": "2.7.13"
  },
  "nav_menu": {},
  "toc": {
   "navigate_menu": true,
   "number_sections": false,
   "sideBar": true,
   "threshold": 6,
   "toc_cell": false,
   "toc_section_display": "block",
   "toc_window_display": true
  }
 },
 "nbformat": 4,
 "nbformat_minor": 2
}
